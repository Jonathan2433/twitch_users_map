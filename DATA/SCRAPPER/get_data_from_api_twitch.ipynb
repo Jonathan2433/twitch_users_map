{
 "cells": [
  {
   "cell_type": "code",
   "execution_count": 57,
   "metadata": {
    "collapsed": true
   },
   "outputs": [],
   "source": [
    "import pandas as pd\n",
    "import call_api_service as ca\n",
    "import twitch_api_login\n",
    "import authenticator"
   ]
  },
  {
   "cell_type": "markdown",
   "source": [
    "## Open the file of streamers"
   ],
   "metadata": {
    "collapsed": false
   }
  },
  {
   "cell_type": "code",
   "execution_count": 58,
   "outputs": [
    {
     "data": {
      "text/plain": "0         aminematue\n1         RebeuDeter\n2             Kamet0\n3           Squeezie\n4            Domingo\n            ...     \n2495           T0XIA\n2496         Datalgo\n2497      JiloOziris\n2498    DeejayMakina\n2499    MisterDwight\nName: 0, Length: 2500, dtype: object"
     },
     "execution_count": 58,
     "metadata": {},
     "output_type": "execute_result"
    }
   ],
   "source": [
    "top_2500 = pd.read_csv('../top_2500_streamer.csv', header=None)\n",
    "top_2500[0]"
   ],
   "metadata": {
    "collapsed": false
   }
  },
  {
   "cell_type": "markdown",
   "source": [
    "## Get the access token from twitch api"
   ],
   "metadata": {
    "collapsed": false
   }
  },
  {
   "cell_type": "code",
   "execution_count": 59,
   "outputs": [
    {
     "data": {
      "text/plain": "'ckmmpk56udpusiqhdt13h4magcg2pv'"
     },
     "execution_count": 59,
     "metadata": {},
     "output_type": "execute_result"
    }
   ],
   "source": [
    "# Get the login from file in git ignore\n",
    "client_id = twitch_api_login.Client_ID\n",
    "client_secret = twitch_api_login.Secret\n",
    "\n",
    "# get the access token\n",
    "auth = authenticator.Auth(client_id, client_secret)\n",
    "access_token = auth.get_auth()\n",
    "access_token"
   ],
   "metadata": {
    "collapsed": false
   }
  },
  {
   "cell_type": "markdown",
   "source": [
    "## Get call_api_service Class"
   ],
   "metadata": {
    "collapsed": false
   }
  },
  {
   "cell_type": "code",
   "execution_count": 60,
   "outputs": [],
   "source": [
    "call_api = ca.Call_api_service(client_id, access_token)"
   ],
   "metadata": {
    "collapsed": false
   }
  },
  {
   "cell_type": "markdown",
   "source": [
    "## Get the twitch_Id for Each Streamer"
   ],
   "metadata": {
    "collapsed": false
   }
  },
  {
   "cell_type": "code",
   "execution_count": 61,
   "outputs": [
    {
     "data": {
      "text/plain": "{'aminematue': '407388596',\n 'RebeuDeter': '407837457',\n 'Kamet0': '27115917',\n 'Squeezie': '52130765',\n 'Domingo': '40063341',\n 'Etoiles': '85800130',\n 'JLTomy': '155601320',\n 'AntoineDaniel': '135468063',\n 'chowh1': '117168642',\n 'ZeratoR': '41719107',\n 'Gotaga': '24147592',\n 'Joueur_du_Grenier': '68078157',\n 'Locklear': '137347549',\n 'Sardoche': '50795214',\n 'WankilStudio': '31289086',\n 'SolaryHS': '416031592',\n 'Jolavanille': '574802385',\n 'Ponce': '50597026',\n 'Pauleta_Twitch': '41487980',\n 'Bichouu_': '173066877',\n 'Shaunz': '43102846',\n 'Alderiate': '77452537',\n 'Shisheyu_Mayamoto': '62989856',\n 'Mynthos': '28585164',\n 'RocKy_': '115695918',\n 'jbzzed': '114497555',\n 'Tonton': '72480716',\n 'dahmien7': '113080650',\n 'RocketBaguette': '139027213',\n 'SkyrrozTV': '52349411',\n 'Altair': '190708734',\n 'TheGuill84': '36318615',\n 'otplol_': '622498423',\n 'Chap_GG': '113511896',\n 'Cruelladk': '62658190',\n 'MasterSnakou': '42141251',\n 'DVM_Medja': '132199022',\n 'KmSenKangoo': '779220187',\n 'mistermv': '28575692',\n 'Lapi': '44806759',\n 'Kaydop': '63675549',\n 'WakzLoL': '103762288',\n 'Minos': '63985840',\n 'PapeSan': '485818115',\n 'Xari': '88301612',\n 'SAFINEE': '418538643',\n 'MaximeBiaggi': '119657765',\n 'ImSoFresh': '52616898',\n 'Linca': '144395004',\n 'BruceGrannec': '31813025'}"
     },
     "execution_count": 61,
     "metadata": {},
     "output_type": "execute_result"
    }
   ],
   "source": [
    "twitch_id = {}\n",
    "for streamer in top_2500[0][0:50]:\n",
    "    streamer_id = call_api.get_user_id(streamer)\n",
    "    twitch_id[streamer] = streamer_id\n",
    "\n",
    "twitch_id"
   ],
   "metadata": {
    "collapsed": false
   }
  },
  {
   "cell_type": "code",
   "execution_count": 62,
   "outputs": [],
   "source": [
    "#transform list to dataframe\n",
    "df = pd.DataFrame.from_dict({'streamer': twitch_id.keys(), 'twitch_id': twitch_id.values()})\n",
    "\n",
    "# saving the dataframe\n",
    "df.to_csv('../streamers.csv', header=True, index=False)"
   ],
   "metadata": {
    "collapsed": false
   }
  },
  {
   "cell_type": "code",
   "execution_count": 63,
   "outputs": [
    {
     "data": {
      "text/plain": "             streamer  twitch_id\n0          aminematue  407388596\n1          RebeuDeter  407837457\n2              Kamet0   27115917\n3            Squeezie   52130765\n4             Domingo   40063341\n5             Etoiles   85800130\n6              JLTomy  155601320\n7       AntoineDaniel  135468063\n8              chowh1  117168642\n9             ZeratoR   41719107\n10             Gotaga   24147592\n11  Joueur_du_Grenier   68078157\n12           Locklear  137347549\n13           Sardoche   50795214\n14       WankilStudio   31289086\n15           SolaryHS  416031592\n16        Jolavanille  574802385\n17              Ponce   50597026\n18     Pauleta_Twitch   41487980\n19           Bichouu_  173066877\n20             Shaunz   43102846\n21          Alderiate   77452537\n22  Shisheyu_Mayamoto   62989856\n23            Mynthos   28585164\n24             RocKy_  115695918\n25             jbzzed  114497555\n26             Tonton   72480716\n27           dahmien7  113080650\n28     RocketBaguette  139027213\n29          SkyrrozTV   52349411\n30             Altair  190708734\n31         TheGuill84   36318615\n32            otplol_  622498423\n33            Chap_GG  113511896\n34          Cruelladk   62658190\n35       MasterSnakou   42141251\n36          DVM_Medja  132199022\n37        KmSenKangoo  779220187\n38           mistermv   28575692\n39               Lapi   44806759\n40             Kaydop   63675549\n41            WakzLoL  103762288\n42              Minos   63985840\n43            PapeSan  485818115\n44               Xari   88301612\n45            SAFINEE  418538643\n46       MaximeBiaggi  119657765\n47          ImSoFresh   52616898\n48              Linca  144395004\n49       BruceGrannec   31813025",
      "text/html": "<div>\n<style scoped>\n    .dataframe tbody tr th:only-of-type {\n        vertical-align: middle;\n    }\n\n    .dataframe tbody tr th {\n        vertical-align: top;\n    }\n\n    .dataframe thead th {\n        text-align: right;\n    }\n</style>\n<table border=\"1\" class=\"dataframe\">\n  <thead>\n    <tr style=\"text-align: right;\">\n      <th></th>\n      <th>streamer</th>\n      <th>twitch_id</th>\n    </tr>\n  </thead>\n  <tbody>\n    <tr>\n      <th>0</th>\n      <td>aminematue</td>\n      <td>407388596</td>\n    </tr>\n    <tr>\n      <th>1</th>\n      <td>RebeuDeter</td>\n      <td>407837457</td>\n    </tr>\n    <tr>\n      <th>2</th>\n      <td>Kamet0</td>\n      <td>27115917</td>\n    </tr>\n    <tr>\n      <th>3</th>\n      <td>Squeezie</td>\n      <td>52130765</td>\n    </tr>\n    <tr>\n      <th>4</th>\n      <td>Domingo</td>\n      <td>40063341</td>\n    </tr>\n    <tr>\n      <th>5</th>\n      <td>Etoiles</td>\n      <td>85800130</td>\n    </tr>\n    <tr>\n      <th>6</th>\n      <td>JLTomy</td>\n      <td>155601320</td>\n    </tr>\n    <tr>\n      <th>7</th>\n      <td>AntoineDaniel</td>\n      <td>135468063</td>\n    </tr>\n    <tr>\n      <th>8</th>\n      <td>chowh1</td>\n      <td>117168642</td>\n    </tr>\n    <tr>\n      <th>9</th>\n      <td>ZeratoR</td>\n      <td>41719107</td>\n    </tr>\n    <tr>\n      <th>10</th>\n      <td>Gotaga</td>\n      <td>24147592</td>\n    </tr>\n    <tr>\n      <th>11</th>\n      <td>Joueur_du_Grenier</td>\n      <td>68078157</td>\n    </tr>\n    <tr>\n      <th>12</th>\n      <td>Locklear</td>\n      <td>137347549</td>\n    </tr>\n    <tr>\n      <th>13</th>\n      <td>Sardoche</td>\n      <td>50795214</td>\n    </tr>\n    <tr>\n      <th>14</th>\n      <td>WankilStudio</td>\n      <td>31289086</td>\n    </tr>\n    <tr>\n      <th>15</th>\n      <td>SolaryHS</td>\n      <td>416031592</td>\n    </tr>\n    <tr>\n      <th>16</th>\n      <td>Jolavanille</td>\n      <td>574802385</td>\n    </tr>\n    <tr>\n      <th>17</th>\n      <td>Ponce</td>\n      <td>50597026</td>\n    </tr>\n    <tr>\n      <th>18</th>\n      <td>Pauleta_Twitch</td>\n      <td>41487980</td>\n    </tr>\n    <tr>\n      <th>19</th>\n      <td>Bichouu_</td>\n      <td>173066877</td>\n    </tr>\n    <tr>\n      <th>20</th>\n      <td>Shaunz</td>\n      <td>43102846</td>\n    </tr>\n    <tr>\n      <th>21</th>\n      <td>Alderiate</td>\n      <td>77452537</td>\n    </tr>\n    <tr>\n      <th>22</th>\n      <td>Shisheyu_Mayamoto</td>\n      <td>62989856</td>\n    </tr>\n    <tr>\n      <th>23</th>\n      <td>Mynthos</td>\n      <td>28585164</td>\n    </tr>\n    <tr>\n      <th>24</th>\n      <td>RocKy_</td>\n      <td>115695918</td>\n    </tr>\n    <tr>\n      <th>25</th>\n      <td>jbzzed</td>\n      <td>114497555</td>\n    </tr>\n    <tr>\n      <th>26</th>\n      <td>Tonton</td>\n      <td>72480716</td>\n    </tr>\n    <tr>\n      <th>27</th>\n      <td>dahmien7</td>\n      <td>113080650</td>\n    </tr>\n    <tr>\n      <th>28</th>\n      <td>RocketBaguette</td>\n      <td>139027213</td>\n    </tr>\n    <tr>\n      <th>29</th>\n      <td>SkyrrozTV</td>\n      <td>52349411</td>\n    </tr>\n    <tr>\n      <th>30</th>\n      <td>Altair</td>\n      <td>190708734</td>\n    </tr>\n    <tr>\n      <th>31</th>\n      <td>TheGuill84</td>\n      <td>36318615</td>\n    </tr>\n    <tr>\n      <th>32</th>\n      <td>otplol_</td>\n      <td>622498423</td>\n    </tr>\n    <tr>\n      <th>33</th>\n      <td>Chap_GG</td>\n      <td>113511896</td>\n    </tr>\n    <tr>\n      <th>34</th>\n      <td>Cruelladk</td>\n      <td>62658190</td>\n    </tr>\n    <tr>\n      <th>35</th>\n      <td>MasterSnakou</td>\n      <td>42141251</td>\n    </tr>\n    <tr>\n      <th>36</th>\n      <td>DVM_Medja</td>\n      <td>132199022</td>\n    </tr>\n    <tr>\n      <th>37</th>\n      <td>KmSenKangoo</td>\n      <td>779220187</td>\n    </tr>\n    <tr>\n      <th>38</th>\n      <td>mistermv</td>\n      <td>28575692</td>\n    </tr>\n    <tr>\n      <th>39</th>\n      <td>Lapi</td>\n      <td>44806759</td>\n    </tr>\n    <tr>\n      <th>40</th>\n      <td>Kaydop</td>\n      <td>63675549</td>\n    </tr>\n    <tr>\n      <th>41</th>\n      <td>WakzLoL</td>\n      <td>103762288</td>\n    </tr>\n    <tr>\n      <th>42</th>\n      <td>Minos</td>\n      <td>63985840</td>\n    </tr>\n    <tr>\n      <th>43</th>\n      <td>PapeSan</td>\n      <td>485818115</td>\n    </tr>\n    <tr>\n      <th>44</th>\n      <td>Xari</td>\n      <td>88301612</td>\n    </tr>\n    <tr>\n      <th>45</th>\n      <td>SAFINEE</td>\n      <td>418538643</td>\n    </tr>\n    <tr>\n      <th>46</th>\n      <td>MaximeBiaggi</td>\n      <td>119657765</td>\n    </tr>\n    <tr>\n      <th>47</th>\n      <td>ImSoFresh</td>\n      <td>52616898</td>\n    </tr>\n    <tr>\n      <th>48</th>\n      <td>Linca</td>\n      <td>144395004</td>\n    </tr>\n    <tr>\n      <th>49</th>\n      <td>BruceGrannec</td>\n      <td>31813025</td>\n    </tr>\n  </tbody>\n</table>\n</div>"
     },
     "execution_count": 63,
     "metadata": {},
     "output_type": "execute_result"
    }
   ],
   "source": [
    "test = pd.read_csv('../streamers.csv')\n",
    "test"
   ],
   "metadata": {
    "collapsed": false
   }
  },
  {
   "cell_type": "code",
   "execution_count": 72,
   "outputs": [
    {
     "name": "stdout",
     "output_type": "stream",
     "text": [
      "christopher_925\n",
      "aleyy_06k\n",
      "ouaischeu69\n",
      "chenino1\n",
      "adrien66330\n",
      "rtiroppnhcfswz\n",
      "marabout170\n",
      "melihaa\n",
      "lauly_fr\n",
      "christophernvr\n",
      "lordkoni666\n",
      "wiwiss63\n",
      "ryry_o0\n",
      "fristay\n",
      "leoznt67\n",
      "letrader2\n",
      "1111n0t8ad\n",
      "07_29294\n",
      "skizix55\n",
      "thebro_2\n",
      "ouaischeu69\n",
      "acouphaine\n",
      "chenino1\n",
      "adrien66330\n",
      "marabout170\n",
      "lauly_fr\n",
      "naruto_gammeur38naii\n",
      "christophernvr\n",
      "1111n0t8ad\n",
      "spacegamerytrblx\n",
      "letrader2\n",
      "thebro_2\n",
      "robingere81\n",
      "mziboy\n",
      "slen_11\n",
      "louroig\n",
      "rz_mfj\n",
      "kirito260_iq\n",
      "yxngkayzee\n",
      "matmatmonvieux\n",
      "ewsca\n",
      "667mimi\n",
      "thecheikh7\n",
      "romano276236\n",
      "tinifizzz\n",
      "warfox564\n",
      "juny_j\n",
      "lauly_fr\n",
      "laurat_f12\n",
      "le_pelliculeur\n",
      "jordan_nls9\n",
      "lobrako\n",
      "parisempire\n",
      "maxlarage\n",
      "mar_haam\n",
      "darany78\n",
      "babou13120\n",
      "notnaoy\n",
      "wag0ag\n",
      "mizarusan\n"
     ]
    }
   ],
   "source": [
    "streamer_followers = {}\n",
    "for twitch_id in test['twitch_id'][0:3]:\n",
    "    followers = call_api.get_user_follows(str(twitch_id))\n",
    "    for i in followers['data']:\n",
    "        print(i['from_login'])"
   ],
   "metadata": {
    "collapsed": false
   }
  },
  {
   "cell_type": "code",
   "execution_count": null,
   "outputs": [],
   "source": [],
   "metadata": {
    "collapsed": false
   }
  }
 ],
 "metadata": {
  "kernelspec": {
   "display_name": "Python 3",
   "language": "python",
   "name": "python3"
  },
  "language_info": {
   "codemirror_mode": {
    "name": "ipython",
    "version": 2
   },
   "file_extension": ".py",
   "mimetype": "text/x-python",
   "name": "python",
   "nbconvert_exporter": "python",
   "pygments_lexer": "ipython2",
   "version": "2.7.6"
  }
 },
 "nbformat": 4,
 "nbformat_minor": 0
}
