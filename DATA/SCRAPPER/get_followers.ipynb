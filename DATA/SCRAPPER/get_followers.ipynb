{
 "cells": [
  {
   "cell_type": "code",
   "execution_count": 5,
   "metadata": {
    "collapsed": true
   },
   "outputs": [],
   "source": [
    "import pandas as pd\n",
    "import call_api_service as ca\n",
    "import twitch_api_login\n",
    "import authenticator\n",
    "import mysql.connector"
   ]
  },
  {
   "cell_type": "markdown",
   "source": [
    "# Connexion to BDD"
   ],
   "metadata": {
    "collapsed": false
   }
  },
  {
   "cell_type": "code",
   "execution_count": 6,
   "outputs": [],
   "source": [
    "bdd = mysql.connector.connect(\n",
    "    host=\"localhost\",\n",
    "    user=\"root\",\n",
    "    password=\"\",\n",
    "    database=\"twitch_user_map\"\n",
    ")\n",
    "\n",
    "mycursor = bdd.cursor()"
   ],
   "metadata": {
    "collapsed": false
   }
  },
  {
   "cell_type": "markdown",
   "source": [
    "## Open streamers Data"
   ],
   "metadata": {
    "collapsed": false
   }
  },
  {
   "cell_type": "code",
   "execution_count": 2,
   "outputs": [
    {
     "data": {
      "text/plain": "     streamer  twitch_id\n0  aminematue  407388596\n1  RebeuDeter  407837457\n2      Kamet0   27115917\n3    Squeezie   52130765\n4     Domingo   40063341",
      "text/html": "<div>\n<style scoped>\n    .dataframe tbody tr th:only-of-type {\n        vertical-align: middle;\n    }\n\n    .dataframe tbody tr th {\n        vertical-align: top;\n    }\n\n    .dataframe thead th {\n        text-align: right;\n    }\n</style>\n<table border=\"1\" class=\"dataframe\">\n  <thead>\n    <tr style=\"text-align: right;\">\n      <th></th>\n      <th>streamer</th>\n      <th>twitch_id</th>\n    </tr>\n  </thead>\n  <tbody>\n    <tr>\n      <th>0</th>\n      <td>aminematue</td>\n      <td>407388596</td>\n    </tr>\n    <tr>\n      <th>1</th>\n      <td>RebeuDeter</td>\n      <td>407837457</td>\n    </tr>\n    <tr>\n      <th>2</th>\n      <td>Kamet0</td>\n      <td>27115917</td>\n    </tr>\n    <tr>\n      <th>3</th>\n      <td>Squeezie</td>\n      <td>52130765</td>\n    </tr>\n    <tr>\n      <th>4</th>\n      <td>Domingo</td>\n      <td>40063341</td>\n    </tr>\n  </tbody>\n</table>\n</div>"
     },
     "execution_count": 2,
     "metadata": {},
     "output_type": "execute_result"
    }
   ],
   "source": [
    "streamers = pd.read_csv('../streamers.csv')\n",
    "streamers.head()"
   ],
   "metadata": {
    "collapsed": false
   }
  },
  {
   "cell_type": "markdown",
   "source": [
    "## Get the access token from api twitch"
   ],
   "metadata": {
    "collapsed": false
   }
  },
  {
   "cell_type": "code",
   "execution_count": 3,
   "outputs": [
    {
     "data": {
      "text/plain": "'ollhf6wt0qy34znwy5exmddmpkkppt'"
     },
     "execution_count": 3,
     "metadata": {},
     "output_type": "execute_result"
    }
   ],
   "source": [
    "# Get the login from file in git ignore\n",
    "client_id = twitch_api_login.Client_ID\n",
    "client_secret = twitch_api_login.Secret\n",
    "\n",
    "# get the access token\n",
    "auth = authenticator.Auth(client_id, client_secret)\n",
    "access_token = auth.get_auth()\n",
    "access_token"
   ],
   "metadata": {
    "collapsed": false
   }
  },
  {
   "cell_type": "markdown",
   "source": [
    "## Get Call_api_class"
   ],
   "metadata": {
    "collapsed": false
   }
  },
  {
   "cell_type": "code",
   "execution_count": 4,
   "outputs": [],
   "source": [
    "call_api = ca.Call_api_service(client_id, access_token)"
   ],
   "metadata": {
    "collapsed": false
   }
  },
  {
   "cell_type": "code",
   "execution_count": 5,
   "outputs": [
    {
     "name": "stdout",
     "output_type": "stream",
     "text": [
      "[{'from_id': '250912145', 'from_login': 'brllcz', 'from_name': 'BRllCZ', 'to_id': '407388596', 'to_login': 'aminematue', 'to_name': 'aminematue', 'followed_at': '2023-01-19T20:46:27Z'}, {'from_id': '530687354', 'from_login': 'ghitss_b', 'from_name': 'ghitss_b', 'to_id': '407388596', 'to_login': 'aminematue', 'to_name': 'aminematue', 'followed_at': '2023-01-19T20:46:25Z'}, {'from_id': '171144437', 'from_login': 'lechefbandit47', 'from_name': 'LeChefBandit47', 'to_id': '407388596', 'to_login': 'aminematue', 'to_name': 'aminematue', 'followed_at': '2023-01-19T20:46:22Z'}, {'from_id': '859704185', 'from_login': 'grisougris213', 'from_name': 'grisougris213', 'to_id': '407388596', 'to_login': 'aminematue', 'to_name': 'aminematue', 'followed_at': '2023-01-19T20:46:21Z'}, {'from_id': '71003353', 'from_login': 'remsonn', 'from_name': 'Remsonn', 'to_id': '407388596', 'to_login': 'aminematue', 'to_name': 'aminematue', 'followed_at': '2023-01-19T20:46:21Z'}, {'from_id': '508036608', 'from_login': 'vnb_dodgy', 'from_name': 'vnb_dodgy', 'to_id': '407388596', 'to_login': 'aminematue', 'to_name': 'aminematue', 'followed_at': '2023-01-19T20:46:20Z'}, {'from_id': '139417577', 'from_login': 'rikutchido', 'from_name': 'RIKUTCHIDO', 'to_id': '407388596', 'to_login': 'aminematue', 'to_name': 'aminematue', 'followed_at': '2023-01-19T20:46:18Z'}, {'from_id': '493345809', 'from_login': 'flaykox', 'from_name': 'flaykox', 'to_id': '407388596', 'to_login': 'aminematue', 'to_name': 'aminematue', 'followed_at': '2023-01-19T20:46:09Z'}, {'from_id': '863344765', 'from_login': 'enzor36', 'from_name': 'enzor36', 'to_id': '407388596', 'to_login': 'aminematue', 'to_name': 'aminematue', 'followed_at': '2023-01-19T20:46:07Z'}, {'from_id': '463890501', 'from_login': 'kaiz3rtoof', 'from_name': 'Kaiz3rtoof', 'to_id': '407388596', 'to_login': 'aminematue', 'to_name': 'aminematue', 'followed_at': '2023-01-19T20:46:06Z'}, {'from_id': '815986218', 'from_login': 'une_patate_kawaii44', 'from_name': 'une_patate_kawaii44', 'to_id': '407388596', 'to_login': 'aminematue', 'to_name': 'aminematue', 'followed_at': '2023-01-19T20:46:05Z'}, {'from_id': '522871042', 'from_login': 'thenah_', 'from_name': 'thenah_', 'to_id': '407388596', 'to_login': 'aminematue', 'to_name': 'aminematue', 'followed_at': '2023-01-19T20:46:04Z'}, {'from_id': '407671807', 'from_login': 'remi_ev7', 'from_name': 'remi_ev7', 'to_id': '407388596', 'to_login': 'aminematue', 'to_name': 'aminematue', 'followed_at': '2023-01-19T20:46:03Z'}, {'from_id': '872503464', 'from_login': 'flakop_', 'from_name': 'flakop_', 'to_id': '407388596', 'to_login': 'aminematue', 'to_name': 'aminematue', 'followed_at': '2023-01-19T20:46:03Z'}, {'from_id': '597084041', 'from_login': 'christo91wz', 'from_name': 'christo91wz', 'to_id': '407388596', 'to_login': 'aminematue', 'to_name': 'aminematue', 'followed_at': '2023-01-19T20:46:00Z'}, {'from_id': '247282288', 'from_login': 'lysandro45', 'from_name': 'lysandro45', 'to_id': '407388596', 'to_login': 'aminematue', 'to_name': 'aminematue', 'followed_at': '2023-01-19T20:45:59Z'}, {'from_id': '872498140', 'from_login': '6melasse', 'from_name': '6melasse', 'to_id': '407388596', 'to_login': 'aminematue', 'to_name': 'aminematue', 'followed_at': '2023-01-19T20:45:56Z'}, {'from_id': '872503673', 'from_login': 'xxaroxx64', 'from_name': 'xxaroxx64', 'to_id': '407388596', 'to_login': 'aminematue', 'to_name': 'aminematue', 'followed_at': '2023-01-19T20:45:56Z'}, {'from_id': '406739312', 'from_login': 'dyc0_', 'from_name': 'DyC0_', 'to_id': '407388596', 'to_login': 'aminematue', 'to_name': 'aminematue', 'followed_at': '2023-01-19T20:45:52Z'}, {'from_id': '215163606', 'from_login': 'rems_91', 'from_name': 'rems_91', 'to_id': '407388596', 'to_login': 'aminematue', 'to_name': 'aminematue', 'followed_at': '2023-01-19T20:45:50Z'}]\n"
     ]
    }
   ],
   "source": [
    "streamer_followers = {}\n",
    "for twitch_id in streamers['twitch_id'][0:1]:\n",
    "    followers = call_api.get_user_follows(str(twitch_id))\n",
    "    for follower in followers:\n",
    "        follower_pseudo = follower\n",
    "        follower_id_twitch = followers[follower]\n",
    "        # todo verif que l'user n'existe pas en bdd siil n'existe pas l'enregistrer sinon next\n"
   ],
   "metadata": {
    "collapsed": false
   }
  }
 ],
 "metadata": {
  "kernelspec": {
   "display_name": "Python 3",
   "language": "python",
   "name": "python3"
  },
  "language_info": {
   "codemirror_mode": {
    "name": "ipython",
    "version": 2
   },
   "file_extension": ".py",
   "mimetype": "text/x-python",
   "name": "python",
   "nbconvert_exporter": "python",
   "pygments_lexer": "ipython2",
   "version": "2.7.6"
  }
 },
 "nbformat": 4,
 "nbformat_minor": 0
}
