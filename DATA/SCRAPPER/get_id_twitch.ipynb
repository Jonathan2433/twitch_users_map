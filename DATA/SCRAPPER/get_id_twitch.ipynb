{
 "cells": [
  {
   "cell_type": "code",
   "execution_count": 24,
   "metadata": {
    "collapsed": true
   },
   "outputs": [],
   "source": [
    "import pandas as pd\n",
    "import call_api_service as ca\n",
    "import twitch_api_login\n",
    "import authenticator"
   ]
  },
  {
   "cell_type": "markdown",
   "source": [
    "## Open the file of streamers"
   ],
   "metadata": {
    "collapsed": false
   }
  },
  {
   "cell_type": "code",
   "execution_count": 25,
   "outputs": [
    {
     "data": {
      "text/plain": "0         aminematue\n1         RebeuDeter\n2             Kamet0\n3           Squeezie\n4            Domingo\n            ...     \n2495           T0XIA\n2496         Datalgo\n2497      JiloOziris\n2498    DeejayMakina\n2499    MisterDwight\nName: 0, Length: 2500, dtype: object"
     },
     "execution_count": 25,
     "metadata": {},
     "output_type": "execute_result"
    }
   ],
   "source": [
    "top_2500 = pd.read_csv('../top_2500_streamer.csv', header=None)\n",
    "top_2500[0]"
   ],
   "metadata": {
    "collapsed": false
   }
  },
  {
   "cell_type": "markdown",
   "source": [
    "## Get the access token from twitch api"
   ],
   "metadata": {
    "collapsed": false
   }
  },
  {
   "cell_type": "code",
   "execution_count": 26,
   "outputs": [
    {
     "data": {
      "text/plain": "'d2eutmez588jvung496mpvwhyaq8ko'"
     },
     "execution_count": 26,
     "metadata": {},
     "output_type": "execute_result"
    }
   ],
   "source": [
    "# Get the login from file in git ignore\n",
    "client_id = twitch_api_login.Client_ID\n",
    "client_secret = twitch_api_login.Secret\n",
    "\n",
    "# get the access token\n",
    "auth = authenticator.Auth(client_id, client_secret)\n",
    "access_token = auth.get_auth()\n",
    "access_token"
   ],
   "metadata": {
    "collapsed": false
   }
  },
  {
   "cell_type": "markdown",
   "source": [
    "## Get call_api_service Class"
   ],
   "metadata": {
    "collapsed": false
   }
  },
  {
   "cell_type": "code",
   "execution_count": 27,
   "outputs": [],
   "source": [
    "call_api = ca.Call_api_service(client_id, access_token)"
   ],
   "metadata": {
    "collapsed": false
   }
  },
  {
   "cell_type": "markdown",
   "source": [
    "## Get the twitch_Id for Each Streamer"
   ],
   "metadata": {
    "collapsed": false
   }
  },
  {
   "cell_type": "code",
   "execution_count": 28,
   "outputs": [],
   "source": [
    "twitch_id = {}\n",
    "for streamer in top_2500[0]:\n",
    "    streamer_id = call_api.get_user_id(streamer)\n",
    "    twitch_id[streamer] = streamer_id"
   ],
   "metadata": {
    "collapsed": false
   }
  },
  {
   "cell_type": "code",
   "execution_count": 29,
   "outputs": [],
   "source": [
    "#transform list to dataframe\n",
    "df = pd.DataFrame.from_dict({'streamer': twitch_id.keys(), 'twitch_id': twitch_id.values()})\n",
    "\n",
    "# saving the dataframe\n",
    "df.to_csv('../streamers.csv', header=True, index=False)"
   ],
   "metadata": {
    "collapsed": false
   }
  },
  {
   "cell_type": "markdown",
   "source": [
    "## CONNECT TO BDD"
   ],
   "metadata": {
    "collapsed": false
   }
  },
  {
   "cell_type": "code",
   "execution_count": 32,
   "outputs": [],
   "source": [
    "import mysql.connector\n",
    "\n",
    "\n",
    "bdd = mysql.connector.connect(\n",
    "    host=\"localhost\",\n",
    "    user=\"root\",\n",
    "    password=\"\",\n",
    "    database=\"twitch_user_map\"\n",
    ")\n",
    "\n",
    "mycursor = bdd.cursor()"
   ],
   "metadata": {
    "collapsed": false
   }
  },
  {
   "cell_type": "markdown",
   "source": [
    "## INSERT DATA ON BDD"
   ],
   "metadata": {
    "collapsed": false
   }
  },
  {
   "cell_type": "code",
   "execution_count": 33,
   "outputs": [],
   "source": [
    "for index, row in df.iterrows():\n",
    "    pseudo = row['streamer']\n",
    "    id_twitch = row['twitch_id']\n",
    "    val = (pseudo, id_twitch)\n",
    "    sql = \"INSERT INTO streamers (pseudo, id_twitch) VALUES (%s, %s)\"\n",
    "\n",
    "    mycursor.execute(sql, val)\n",
    "\n",
    "    bdd.commit()"
   ],
   "metadata": {
    "collapsed": false
   }
  },
  {
   "cell_type": "code",
   "execution_count": null,
   "outputs": [],
   "source": [],
   "metadata": {
    "collapsed": false
   }
  }
 ],
 "metadata": {
  "kernelspec": {
   "display_name": "Python 3",
   "language": "python",
   "name": "python3"
  },
  "language_info": {
   "codemirror_mode": {
    "name": "ipython",
    "version": 2
   },
   "file_extension": ".py",
   "mimetype": "text/x-python",
   "name": "python",
   "nbconvert_exporter": "python",
   "pygments_lexer": "ipython2",
   "version": "2.7.6"
  }
 },
 "nbformat": 4,
 "nbformat_minor": 0
}
